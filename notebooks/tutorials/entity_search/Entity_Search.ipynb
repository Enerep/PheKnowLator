{
 "cells": [
  {
   "cell_type": "markdown",
   "metadata": {
    "collapsed": true
   },
   "source": [
    "<p align=\"center\">\n",
    "  <img width='275' src=\"https://user-images.githubusercontent.com/8030363/195494428-aef60f6c-5211-43ac-8650-ddaa05bfa34a.png\" />\n",
    "</p>\n",
    "\n",
    "***\n",
    "***\n",
    "\n",
    "# Tutorial: Knowledge Graph Entity Search\n",
    "\n",
    "***\n",
    "\n",
    "**Author:** [TJCallahan](http://tiffanycallahan.com/)  \n",
    "**GitHub Repository:** [PheKnowLator](https://github.com/callahantiff/PheKnowLator/wiki)  \n",
    "**Wiki Page:** [Drug Safety Tutorial](https://github.com/callahantiff/PheKnowLator/wiki/KG-based-Investigation-of-Drug-Outcome-Pairs)  \n",
    "<!-- **Tutorial Slides:** [PheKnowLator_Tutorial_EntitySearch](https://docs.google.com/presentation/d/19oc41CFILLlf0HjJfFJlUER-4wt1YV-BItkqWbI4NwU/edit?usp=sharing)  \n",
    "**Release:** **[v3.0.2](https://github.com/callahantiff/PheKnowLator/wiki/v3.0.0)**   -->\n",
    "  \n",
    "<br> \n",
    "\n",
    "## Purpose  \n",
    "The goal of this notebook is to explore different ways to examine relationships between different types of entities in a `PheKnowLator` knowledge graph. A figure depicting the general workflow that is used in this demo is shown below. The objective is to search `OMOP` (Observational Medical Outcomes Partnership) common data model (CDM) concepts against entities in a `PheKnowLator` knowledge graph, which requires mappings from `OMOP2OBO`. Each of these resources will be introduced and described in this tutorial.\n",
    "\n",
    "<br>\n",
    "\n",
    "![](https://user-images.githubusercontent.com/8030363/195580089-872994c4-6498-491c-90e6-51d4203aec93.png)\n",
    "\n",
    "<br>\n",
    "\n",
    "In this tutorial, we will demonstrate the utility of this workflow by examining three different types of adverse event relationships will be explored:  \n",
    "\n",
    "**Known Relationships**  \n",
    "- **Positive:** *Known drug-outcome pairs:*  \n",
    "  - `lisinopril` ([OMOP:1308216](https://athena.ohdsi.org/search-terms/terms/1308216)) and `myocardial infarction` ([OMOP:4329847](https://athena.ohdsi.org/search-terms/terms/4329847)) \n",
    "  \n",
    "- **Negative:** *Drug-outcome pairs known to not be related:*   \n",
    "  - `lisinopril` ([OMOP:1308216](https://athena.ohdsi.org/search-terms/terms/1308216)) and `contact dermatitis` ([OMOP:134438](https://athena.ohdsi.org/search-terms/terms/134438)) \n",
    "  - `lisinopril` ([OMOP:1308216](https://athena.ohdsi.org/search-terms/terms/1308216)) and `ingrown toenails` ([OMOP:4290993](https://athena.ohdsi.org/search-terms/terms/4290993)) \n",
    "  - `lisinopril` ([OMOP:1308216](https://athena.ohdsi.org/search-terms/terms/1308216)) and `presbyopia` ([OMOP:373478](https://athena.ohdsi.org/search-terms/terms/373478)) \n",
    "\n",
    "**Unknown Relationships**  \n",
    "*Drug-outcome pairs with no known relationship:*   \n",
    "- `ivermectin` ([OMOP:42593521](https://athena.ohdsi.org/search-terms/terms/42593521)) and `neurotoxicity` ([OMOP:4024301](https://athena.ohdsi.org/search-terms/terms/4024301)) \n",
    "\n",
    "<br>\n",
    "\n",
    "___\n",
    "\n",
    "### Notebook Organization  \n",
    "- [Set-Up Environment](#set-environment)  \n",
    "- [Knowledge Graph Data](#kg-data)   \n",
    "\n",
    "**Prerequisites**  \n",
    "- [OMOP2OBO Mappings](#omop2obo-mappings)   \n",
    "- [PheKnowLator Knowledge Graph - Schema](#pkt-schema)  \n",
    "\n",
    "**Drug Safety Task - Knowledge Graph-based Drug Safety**   \n",
    "- [Knowledge-based Characterization](#kg-characterization)  \n",
    "    - [Node-Level](#node-level)  \n",
    "    - [Path-Level](#path-level) \n",
    "\n",
    "***\n",
    "***\n",
    "\n",
    "<br>"
   ]
  },
  {
   "cell_type": "markdown",
   "metadata": {},
   "source": [
    "<br>\n",
    "\n",
    "***  \n",
    "## Set-Up Environment  <a class=\"anchor\" id=\"set-environment\"></a> \n",
    "***  \n",
    "___\n",
    "  "
   ]
  },
  {
   "cell_type": "code",
   "execution_count": null,
   "metadata": {},
   "outputs": [],
   "source": [
    "# # uncomment and run to install any required modules from notebooks/requirements.txt\n",
    "# import sys\n",
    "# !{sys.executable} -m pip install -r ../../notebooks/requirements.txt"
   ]
  },
  {
   "cell_type": "code",
   "execution_count": null,
   "metadata": {
    "code_folding": [
     0
    ]
   },
   "outputs": [],
   "source": [
    "# run only if running a local version (i.e., forked from GitHub) of pkt_kg\n",
    "import sys\n",
    "sys.path.append('../../../')"
   ]
  },
  {
   "cell_type": "markdown",
   "metadata": {},
   "source": [
    "⚠️ **Installing graphviz** ⚠️  \n",
    "graphviz can be a tricky library to install, which is why it is not automatically handled for the user via `notebooks/requirements.txt`. If you want to install this, I recommend using the last comment in the following [StackOverflow](https://stackoverflow.com/questions/69377104/unable-to-execute-dot-command-after-installation-of-graphviz-there-is-no-layou) post, but make sure you understand what it is doing before running any of the code. The only thing this impacts is the rendering of network visualizations. Simply skip the visualization code chunks if you are unable to install `graphviz`."
   ]
  },
  {
   "cell_type": "code",
   "execution_count": null,
   "metadata": {
    "code_folding": [
     0
    ]
   },
   "outputs": [],
   "source": [
    "# import needed libraries\n",
    "import glob\n",
    "import json\n",
    "import networkx as nx\n",
    "import os\n",
    "import pandas as pd\n",
    "import pickle\n",
    "import random\n",
    "import re\n",
    "\n",
    "from entity_search import *\n",
    "from pyvis.network import Network\n",
    "from rdflib import Graph, Namespace, URIRef, BNode, Literal\n",
    "from rdflib.namespace import RDFS\n",
    "from tqdm.notebook import tqdm\n",
    "from typing import Callable, Dict, List, Optional, Union\n",
    "\n",
    "# temp work around to avoid logging error\n",
    "try: from pkt_kg.utils import *\n",
    "except FileNotFoundError: from pkt_kg.utils import *\n",
    "\n",
    "# create namespace for OBO ontologies\n",
    "obo = Namespace('http://purl.obolibrary.org/obo/')"
   ]
  },
  {
   "cell_type": "markdown",
   "metadata": {},
   "source": [
    "<br>\n",
    "\n",
    "***\n",
    "\n",
    "## Knowledge Graph Data  <a class=\"anchor\" id=\"kg-data\"></a>\n",
    "***\n",
    "\n",
    "#### *How to access PheKnowLator Data*\n",
    "___\n",
    "\n",
    "This notebook was built using a `v3.0.2` OWL-NETS-abstracted subclass-based build with inverse relations, which is publicly available and can be downloaded using the following links:  \n",
    "- [PheKnowLator_v3.0.2_full_subclass_inverseRelations_OWLNETS_NetworkxMultiDiGraph.gpickle](https://storage.googleapis.com/pheknowlator/current_build/knowledge_graphs/subclass_builds/inverse_relations/owlnets/PheKnowLator_v3.0.2_full_subclass_inverseRelations_OWLNETS_NetworkxMultiDiGraph.gpickle)  \n",
    "- [PheKnowLator_v3.0.2_full_subclass_inverseRelations_OWLNETS_NodeLabels.txt](https://storage.googleapis.com/pheknowlator/current_build/knowledge_graphs/subclass_builds/inverse_relations/owlnets/PheKnowLator_v3.0.2_full_subclass_inverseRelations_OWLNETS_NodeLabels.txt)  \n"
   ]
  },
  {
   "cell_type": "markdown",
   "metadata": {},
   "source": [
    "### Download Data  \n",
    "***\n",
    "\n",
    "The knowledge graph data is publicly available and downloaded from the PheKnowLator project's Google Cloud Storage Bucket: https://console.cloud.google.com/storage/browser/pheknowlator/. Data will be downloaded to the `tutorials/entity_search/data` directory."
   ]
  },
  {
   "cell_type": "code",
   "execution_count": null,
   "metadata": {},
   "outputs": [],
   "source": [
    "# notebook will create a temporary directory and will download data to it\n",
    "write_location = 'data/'\n",
    "if not os.path.exists(write_location): os.mkdir(write_location)"
   ]
  },
  {
   "cell_type": "code",
   "execution_count": null,
   "metadata": {
    "code_folding": [
     1,
     6
    ]
   },
   "outputs": [],
   "source": [
    "# download data to the data directory\n",
    "data_urls = [\n",
    "    'https://storage.googleapis.com/pheknowlator/current_build/knowledge_graphs/subclass_builds/relations_only/owlnets/PheKnowLator_v3.0.2_full_subclass_relationsOnly_OWLNETS_NetworkxMultiDiGraph.gpickle',\n",
    "    'https://storage.googleapis.com/pheknowlator/current_build/knowledge_graphs/subclass_builds/relations_only/owlnets/PheKnowLator_v3.0.2_full_subclass_relationsOnly_OWLNETS_NodeLabels.txt'\n",
    "]\n",
    "\n",
    "for url in data_urls:\n",
    "    file_name = url.split('/')[-1] if 'metadata' not in url else re.sub(r'\\?.*', '', url.split('/')[-1])\n",
    "    if not os.path.exists(write_location + file_name): data_downloader(url, write_location, file_name)\n",
    "        "
   ]
  },
  {
   "cell_type": "markdown",
   "metadata": {},
   "source": [
    "### Load Data\n",
    "***\n",
    "\n",
    "The knowledge graph will be loaded as a `networkx` MultiDiGraph object and the node labels will be read in and converted to a dictionary to enable easy access to node labels and other relevant metadata."
   ]
  },
  {
   "cell_type": "markdown",
   "metadata": {},
   "source": [
    "#### Knowledge Graph\n",
    "\n",
    "Note that this file is large and can take up to 2 minutes to load on a laptop with 16GB of Ram."
   ]
  },
  {
   "cell_type": "code",
   "execution_count": null,
   "metadata": {
    "code_folding": []
   },
   "outputs": [],
   "source": [
    "# load the knowledge graph\n",
    "with open(write_location + data_urls[0].split('/')[-1], 'rb') as f:\n",
    "    kg = pickle.load(f)\n",
    "\n",
    "undirected_kg = nx.to_undirected(kg)\n",
    "print('The knowledge graph contains {} nodes and {} edges'.format(len(kg.nodes()), len(kg.edges())))"
   ]
  },
  {
   "cell_type": "markdown",
   "metadata": {},
   "source": [
    "#### Load Node Metadata"
   ]
  },
  {
   "cell_type": "code",
   "execution_count": null,
   "metadata": {
    "code_folding": [
     0
    ]
   },
   "outputs": [],
   "source": [
    "# read in node metadata\n",
    "data_loc = write_location + data_urls[1].split('/')[-1]\n",
    "node_data = pd.read_csv(data_loc, header=0, sep=r\"\\t\", encoding=\"utf8\", engine='python', quoting=3)\n",
    "node_data['entity_uri'] = node_data['entity_uri'].str.strip('<>')  # remove angle brackets\n",
    "node_data.head()"
   ]
  },
  {
   "cell_type": "code",
   "execution_count": null,
   "metadata": {
    "code_folding": [
     0
    ]
   },
   "outputs": [],
   "source": [
    "# convert node data to dictionary\n",
    "node_data_dict = dict()\n",
    "for idx, row in tqdm(node_data.iterrows(), total=node_data.shape[0]):\n",
    "    node_data_dict[row['entity_uri']] = {\n",
    "        'label': row['label'],\n",
    "        'description': row['description/definition']\n",
    "    }"
   ]
  },
  {
   "cell_type": "markdown",
   "metadata": {},
   "source": [
    "<br>\n",
    "\n",
    "***\n",
    "***\n",
    "\n",
    "# Prerequisites \n"
   ]
  },
  {
   "cell_type": "markdown",
   "metadata": {},
   "source": [
    "<br>\n",
    "\n",
    "***\n",
    "\n",
    "## OMOP2OBO Mappings <a class=\"anchor\" id=\"omop2obo-mappings\"></a> <img width=\"225\" align=\"right\" src=\"https://user-images.githubusercontent.com/8030363/195580079-06726eac-38e8-44c9-8de6-32179bca9614.png\">\n",
    "***\n",
    "____\n",
    "\n",
    "\n",
    "**GitHub:** https://github.com/callahantiff/OMOP2OBO  \n",
    "**Dashboard:**  http://tiffanycallahan.com/OMOP2OBO_Dashboard/  \n",
    "**Zenodo Mapping Archive:** [Condition Occurrence](https://zenodo.org/record/6949688); [Drug Exposure Ingredients](https://zenodo.org/record/6949696); [Measurement](https://zenodo.org/record/6949858)  \n",
    "\n",
    "<br>\n",
    "\n",
    "<a target=\"_blank\" href=\"https://user-images.githubusercontent.com/8030363/195500004-0e20019c-f33b-40a6-b3be-739b1136021a.png\"> <img src=\"https://user-images.githubusercontent.com/8030363/195500004-0e20019c-f33b-40a6-b3be-739b1136021a.png\" width=\"600\"></a> \n",
    "\n",
    "<br>\n",
    "\n",
    "This tutorial depends on mappings from the [`OMOP2OBO`](https://github.com/callahantiff/OMOP2OBO/wiki) in order to align concepts in the [OMOP (Observational Medical Outcomes Partnership) Common Data Model](https://ohdsi.github.io/CommonDataModel/cdm60.html#NOTE_ABOUT_CDM_v60). An example of the mappings is shown in the figure above. As shown in this figure, mappings were created to eight Open Biological and Biomedical Ontology (OBO) Foundry ontologies spanning diseases (Mondo Disease Ontology [`Mondo`]), phenotypes (Human Phenotype Ontology [`HPO`]), anatomical entities (Uber Anatomy Ontology [`Uberon`]; Cell Ontology [`CL`]), organisms (National Center for Biotechnology Information Taxon Ontology [`NCBITaxon`]), chemicals (Chemical Entities of Biological Interest [`ChEBI`]), vaccines (the Vaccine Ontology [`VO`]), and proteins (the Protein Ontology [`PRO`]).\n",
    "\n",
    "A script ([`process_omop2obo_mappings.py`](https://github.com/callahantiff/PheKnowLator/tree/master/notebooks/tutorials/entity_search/process_omop2obo_mappings.py)) has been developed to download the latest OMOP2OBO mappings for the OMOP [Condition Occurrence](https://ohdsi.github.io/CommonDataModel/cdm60.html#CONDITION_OCCURRENCE) and [Drug Exposure ingredients](https://ohdsi.github.io/CommonDataModel/cdm60.html#DRUG_EXPOSURE) tables (please verify this when running this Notebook using the links provided above). Once downloaded, the mappings are converted to a dictionary and pickled to a file called `notebooks/tutorials/entity_search/data/omop2obo_mapping_dict.pkl`. The code chunk below runs this script and reads in the resulting dictionary.\n",
    "\n",
    "**Mapping Example:** \n",
    "The following example demonstrates how to use the mapping dictionary. In this example, the `OMOP` concept [`256439`](https://athena.ohdsi.org/search-terms/terms/256439) is searched and returns mappings to both `Mondo` and `HPO`.\n",
    "\n",
    "The structure of the dictionary is shown below: \n",
    "\n",
    "```python\n",
    "omop2obo_mappings[256439]\n",
    "\n",
    "{\n",
    "    'concept_name': 'Allergic rhinitis due to pollen',\n",
    "    'mapping(s)': {\n",
    "        'HP': {\n",
    "            'mapping_logic': 'OR',\n",
    "            'id': 'HP_0012395 | HP_0003193',\n",
    "            'label': 'seasonal allergy | allergic rhinitis'\n",
    "        },\n",
    "        'MONDO': {\n",
    "            'mapping_logic': nan,\n",
    "            'id': 'MONDO_0011786',\n",
    "            'label': 'allergic rhinitis'\n",
    "        }\n",
    "    }\n",
    "}\n",
    "```\n",
    "\n",
    "<br>\n"
   ]
  },
  {
   "cell_type": "code",
   "execution_count": null,
   "metadata": {},
   "outputs": [],
   "source": [
    "# run script to download and process OMOP2OBO mappings\n",
    "%run process_omop2obo_mappings.py"
   ]
  },
  {
   "cell_type": "code",
   "execution_count": null,
   "metadata": {},
   "outputs": [],
   "source": [
    "# load the mapping dictionary\n",
    "omop2obo_mappings = pickle.load(open(write_location + 'omop2obo_mapping_dict.pkl', 'rb'))"
   ]
  },
  {
   "cell_type": "markdown",
   "metadata": {},
   "source": [
    "<br>\n",
    "\n",
    "***\n",
    "\n",
    "## PheKnowLator Knowledge Graph Schema <a class=\"anchor\" id=\"pkt-schema\"></a>\n",
    "***\n",
    "____\n",
    "\n",
    "The interactive figures below (go ahead, try hovering over the nodes and edges, it's awesome ) provide a high-level overview of the current (`v3.0.2`) PheKnowLator knowledge graph schema (i.e., the primary node types and relationships). Note that there are two figures shown below.\n",
    "1. The first figure illustrates the relationships between the core set of 12 OBO Foundry ontologies when including their imported ontologies.\n",
    "2. The second figure Illustrates the edges that are added to the core set of merged ontologies.\n",
    "\n",
    "Shared colors between the figures represent a shared resource. For example, chemicals, cofactors, and catalysts share the same color (maroon) and are part of ChEBI. This is the same for the RO, which is represented in the first figure as the black lines between nodes. The green and yellow rectangles indicate data sources that are not from an OBO Foundry ontology and the specific ontology used to integrate them with the core set of ontologies in the first figure. For example, variant, transcript, and gene data are connected to the core ontology set via the SO.\n",
    "\n",
    "Acronyms: `CL` (Cell ontology); `CLO` (Cell Line Ontology); `ChEBI` (Chemical Entities of Biological Interest); `GO` (Gene Ontology); `HPO` (Human Phenotype Ontology); `Mondo` (Mondo Disease Ontology); `PRO` (Protein Ontology); `PW` (Pathway Ontology); `SO` (Sequence Ontology); `VO` (Vaccine Ontology); `Uberon` (Uber-Anatomy Ontology).\n",
    "\n",
    "\n",
    "For more information please see the associated Wiki page (https://github.com/callahantiff/PheKnowLator/wiki)."
   ]
  },
  {
   "cell_type": "code",
   "execution_count": null,
   "metadata": {
    "code_folding": [
     0
    ]
   },
   "outputs": [],
   "source": [
    "# visualize the core set of OBOs used in phenknowlator knowledge graphs\n",
    "g = visualize_pheknowlator_ontologies()\n",
    "g.force_atlas_2based(gravity=-25, central_gravity=0.001, spring_length=90, spring_strength=0.08, damping=2, overlap=3)   \n",
    "g.toggle_physics(True)\n",
    "g.show('PheKnowLator_OBOs.html')\n"
   ]
  },
  {
   "cell_type": "code",
   "execution_count": null,
   "metadata": {
    "code_folding": [
     0
    ],
    "scrolled": false
   },
   "outputs": [],
   "source": [
    "# visualize edges added to the core set of OBO ontologies\n",
    "g = visualize_pheknowlator_schema()\n",
    "g.force_atlas_2based(gravity=-25, central_gravity=0.001, spring_length=90, spring_strength=0.08, damping=2, overlap=3)   \n",
    "g.toggle_physics(True)\n",
    "g.show('PheKnowLator_Schema.html')"
   ]
  },
  {
   "cell_type": "markdown",
   "metadata": {},
   "source": [
    "<br>\n",
    "\n",
    "***\n",
    "***\n",
    "\n",
    "# Drug Safety Task - Knowledge Graph-based Drug Safety \n",
    "\n",
    "<br>"
   ]
  },
  {
   "cell_type": "markdown",
   "metadata": {},
   "source": [
    "<br>\n",
    "\n",
    "***\n",
    "\n",
    "## Knowledge-based Characterization  <a class=\"anchor\" id=\"kg-characterization\"></a>\n",
    "***\n",
    "____\n",
    "\n",
    "The goal is to use the knowledge graph to explore what we know about specific concepts as well as what we can say about pairs of concepts. Additional details are presented by comparison below:\n",
    "\n",
    "#### [Node-Level](#node-level)\n",
    " - <u>Node Ancestry</u>: Identify all ancestors for each node up to the root.\n",
    " - <u>Node Neighborhood</u>: Returns all nodes reachable from a node of interest via a single directed edge.   \n",
    "\n",
    "\n",
    "#### [Path-Level](#path-level)\n",
    "  - <u>Shortest Path</u>: Returns the single shortest path.  \n",
    "  - <u>Simple Paths</u>: Returns all paths with no repeated nodes of varying length.  \n",
    "  - <u>Efficiency</u>: A measure of how efficiently information is exchanged between nodes, ranging from 0-1, where 1 indicates high efficiency.\n",
    "\n",
    "---"
   ]
  },
  {
   "cell_type": "markdown",
   "metadata": {},
   "source": [
    "### Look-up PheKnowLator Entities  \n",
    "use the `OMOP2OBO` mapping dictionary to obtain PheKnowLator entities for the following `OMOP` concepts:  \n",
    "- lisinopril [`1308216`](https://athena.ohdsi.org/search-terms/terms/1308216)  \n",
    "- ivermectin [`1784444`](https://athena.ohdsi.org/search-terms/terms/1784444)  \n",
    "- Myocardial Infarction [`4329847`](https://athena.ohdsi.org/search-terms/terms/4329847)  \n",
    "- Contact Dermatitis [`134438`](https://athena.ohdsi.org/search-terms/terms/134438)  \n",
    "- Ingrowing Toenail [`4290993`](https://athena.ohdsi.org/search-terms/terms/4290993)  \n",
    "- Presbyopia [`373478`](https://athena.ohdsi.org/search-terms/terms/373478)  \n",
    "- neurotoxicity [`4024301`](https://athena.ohdsi.org/search-terms/terms/4024301)  \n",
    "\n",
    "<br>\n",
    "\n",
    "#### 💡 Concept Search  \n",
    "- [Athena](https://athena.ohdsi.org/) is a great tool to use when looking looking for the OMOP concepts  \n",
    "- [Ontology Lookup Service](https://www.ebi.ac.uk/ols/) is a very useful tool for  \n",
    "\n",
    "<br>\n"
   ]
  },
  {
   "cell_type": "code",
   "execution_count": null,
   "metadata": {},
   "outputs": [],
   "source": [
    "# lisinopril\n",
    "omop2obo_mappings[1308216]"
   ]
  },
  {
   "cell_type": "code",
   "execution_count": null,
   "metadata": {},
   "outputs": [],
   "source": [
    "# ivermectin\n",
    "omop2obo_mappings[1784444]"
   ]
  },
  {
   "cell_type": "code",
   "execution_count": null,
   "metadata": {},
   "outputs": [],
   "source": [
    "# myocardial infarction\n",
    "omop2obo_mappings[4329847]"
   ]
  },
  {
   "cell_type": "code",
   "execution_count": null,
   "metadata": {},
   "outputs": [],
   "source": [
    "# contact dermatits\n",
    "omop2obo_mappings[134438]"
   ]
  },
  {
   "cell_type": "code",
   "execution_count": null,
   "metadata": {},
   "outputs": [],
   "source": [
    "# ingrowing toenails\n",
    "omop2obo_mappings[4290993]"
   ]
  },
  {
   "cell_type": "code",
   "execution_count": null,
   "metadata": {},
   "outputs": [],
   "source": [
    "# presbyopia\n",
    "omop2obo_mappings[373478]"
   ]
  },
  {
   "cell_type": "code",
   "execution_count": null,
   "metadata": {},
   "outputs": [],
   "source": [
    "# neurotoxicity\n",
    "omop2obo_mappings[4024301]"
   ]
  },
  {
   "cell_type": "markdown",
   "metadata": {},
   "source": [
    "<br>\n",
    "\n",
    "### Node-Level  <a class=\"anchor\" id=\"node-level\"></a>\n",
    "***\n",
    "\n",
    "#### Nodes  \n",
    "- **Drugs**\n",
    "  - [lisinopril (`CHEBI_6503`)](#chebi_6503)  \n",
    "  - [ivermectin (`CHEBI_6078`)](#chebi_6078)  \n",
    "- **Outcomes (diseases)**\n",
    "  - [myocardial infarction (`MONDO_0005068`)](#mondo_0005068)  \n",
    "  - [contact dermatitis (`MONDO_0005480`)](#mondo_0005480)    \n",
    "  - [ingrowing toenail (`HP_0012710`)](#hp_0012710)  \n",
    "  - [presbyopia (`MONDO_0001330`)](#mondo_0001330)  \n",
    "  - [neurotoxicity (`MONDO_0005527`)](#mondo_0005527)  "
   ]
  },
  {
   "cell_type": "markdown",
   "metadata": {},
   "source": [
    "***\n",
    "\n",
    "#### lisinopril (`CHEBI_6503`) <a class=\"anchor\" id=\"chebi_6503\"></a>"
   ]
  },
  {
   "cell_type": "code",
   "execution_count": null,
   "metadata": {},
   "outputs": [],
   "source": [
    "node = [obo.CHEBI_6503]\n",
    "degree = str(kg.degree(node[0]))\n",
    "in_edges = str(len(kg.in_edges(node[0])))\n",
    "out_edges = str(len(kg.out_edges(node[0])))\n",
    "print('This node has degree {}, which consists of {} in-edges and {} out-edges'.format(degree, in_edges, out_edges))"
   ]
  },
  {
   "cell_type": "markdown",
   "metadata": {},
   "source": [
    "*Ancestors*"
   ]
  },
  {
   "cell_type": "code",
   "execution_count": null,
   "metadata": {
    "code_folding": []
   },
   "outputs": [],
   "source": [
    "# examine the node's ancestors\n",
    "prefix = 'CHEBI'\n",
    "chebi6503_anc_dict = processes_ancestor_path_list(nx_ancestor_search(kg, node.copy(), prefix))\n",
    "chebi6503_ancestors = format_path_ancestors(chebi6503_anc_dict, node_data_dict)"
   ]
  },
  {
   "cell_type": "code",
   "execution_count": null,
   "metadata": {
    "code_folding": [
     0
    ]
   },
   "outputs": [],
   "source": [
    "# visualize hierarchy\n",
    "# visualize_ancestor_tree(chebi6503_ancestors)  # using static viz\n",
    "g = visualize_kg_output(kg, chebi6503_ancestors, node_data_dict)\n",
    "g.force_atlas_2based(gravity=-25, central_gravity=0.001, spring_length=90, spring_strength=0.08, damping=2, overlap=0)   \n",
    "g.toggle_physics(True)\n",
    "g.show('{}_Ancestor_Graph.html'.format(str(node[0]).split('/')[-1]))\n"
   ]
  },
  {
   "cell_type": "code",
   "execution_count": null,
   "metadata": {
    "code_folding": [
     0
    ]
   },
   "outputs": [],
   "source": [
    "# print results -- nodes are ordered by seniority (higher numbers indicate closer to root)\n",
    "print('Ancestors of {}'.format(node[0]))\n",
    "if node_data_dict[str(node[0])]['description'] != 'None': print('- Definition: {}\\n'.format(node_data_dict[str(node[0])]['description']))\n",
    "for level in range(len(chebi6503_ancestors)):\n",
    "    print('Level: {}'.format(str(level)))\n",
    "    for v in chebi6503_ancestors[::-1][level]:\n",
    "        v_uri = URIRef(v.split('(')[-1].strip(')'))\n",
    "        descs = len([a[1] for b in [[[i, n[0]] for j in [kg.get_edge_data(*(n[0], v_uri)).keys()]\n",
    "                                     for i in j] for n in list(kg.in_edges(v_uri))] for a in b\n",
    "                     if a[0] == RDFS.subClassOf])\n",
    "        uri_strip = re.sub('http://purl.obolibrary.org/obo/', '', v)\n",
    "        print('- {}'.format(uri_strip))\n",
    "        print('- Definition: {}'.format(node_data_dict[str(v_uri)]['description']))\n",
    "        print('- Descendants: {}\\n'.format(descs + 1))\n",
    "        "
   ]
  },
  {
   "cell_type": "markdown",
   "metadata": {},
   "source": [
    "*Neighborhood*"
   ]
  },
  {
   "cell_type": "code",
   "execution_count": null,
   "metadata": {
    "code_folding": [
     2
    ]
   },
   "outputs": [],
   "source": [
    "# examine the node's neigborhood (out-edges)\n",
    "nodes = list(kg.neighbors(node[0]))\n",
    "neighbors = [a for b in [[[i, n] for j in [kg.get_edge_data(*(node[0], n)).keys()]\n",
    "                          for i in j] for n in nodes] for a in b]\n",
    "chebi6503_sorted_neigbors = sorted(neighbors, key=lambda x: (str(x[1]).split('/')[-1], x[0]))\n",
    "\n",
    "print('{} has {} neighbors'.format(str(node[0]).split('/')[-1], degree))"
   ]
  },
  {
   "cell_type": "code",
   "execution_count": null,
   "metadata": {
    "code_folding": []
   },
   "outputs": [],
   "source": [
    "# print node's neigborhood (out-edges)\n",
    "formats_node_information(node, chebi6503_sorted_neigbors, node_data_dict, verbose=False)"
   ]
  },
  {
   "cell_type": "markdown",
   "metadata": {},
   "source": [
    "***\n",
    "\n",
    "#### ivermectin (`CHEBI_6078`) <a class=\"anchor\" id=\"chebi_6078\"></a>"
   ]
  },
  {
   "cell_type": "code",
   "execution_count": null,
   "metadata": {},
   "outputs": [],
   "source": [
    "node = [obo.CHEBI_6078]\n",
    "degree = str(kg.degree(node[0]))\n",
    "in_edges = str(len(kg.in_edges(node[0])))\n",
    "out_edges = str(len(kg.out_edges(node[0])))\n",
    "print('This node has degree {}, which consists of {} in-edges and {} out-edges'.format(degree, in_edges, out_edges))"
   ]
  },
  {
   "cell_type": "markdown",
   "metadata": {},
   "source": [
    "*Ancestors*"
   ]
  },
  {
   "cell_type": "code",
   "execution_count": null,
   "metadata": {},
   "outputs": [],
   "source": [
    "# examine the node's ancestors\n",
    "prefix = 'CHEBI'\n",
    "chebi6078_anc_dict = processes_ancestor_path_list(nx_ancestor_search(kg, node.copy(), prefix))\n",
    "chebi6078_ancestors = format_path_ancestors(chebi6078_anc_dict, node_data_dict)"
   ]
  },
  {
   "cell_type": "code",
   "execution_count": null,
   "metadata": {
    "code_folding": [
     0
    ]
   },
   "outputs": [],
   "source": [
    "# visualize hierarchy\n",
    "# visualize_ancestor_tree(chebi6078_ancestors)  # using static viz\n",
    "g = visualize_kg_output(kg, chebi6078_ancestors, node_data_dict)\n",
    "g.force_atlas_2based(gravity=-25, central_gravity=0.001, spring_length=90, spring_strength=0.08, damping=2, overlap=0)   \n",
    "g.toggle_physics(True)\n",
    "g.show('{}_Ancestor_Graph.html'.format(str(node[0]).split('/')[-1]))\n"
   ]
  },
  {
   "cell_type": "code",
   "execution_count": null,
   "metadata": {
    "code_folding": [
     0
    ]
   },
   "outputs": [],
   "source": [
    "# print results -- nodes are ordered by seniority (higher numbers indicate closer to root)\n",
    "print('Ancestors of {}'.format(node[0]))\n",
    "if node_data_dict[str(node[0])]['description'] != 'None': print('- Definition: {}\\n'.format(node_data_dict[str(node[0])]['description']))\n",
    "for level in range(len(chebi6078_ancestors)):\n",
    "    print('Level: {}'.format(str(level)))\n",
    "    for v in chebi6078_ancestors[::-1][level]:\n",
    "        v_uri = URIRef(v.split('(')[-1].strip(')'))\n",
    "        descs = len([a[1] for b in [[[i, n[0]] for j in [kg.get_edge_data(*(n[0], v_uri)).keys()]\n",
    "                                     for i in j] for n in list(kg.in_edges(v_uri))] for a in b\n",
    "                     if a[0] == RDFS.subClassOf])\n",
    "        uri_strip = re.sub('http://purl.obolibrary.org/obo/', '', v)\n",
    "        print('- {}'.format(uri_strip))\n",
    "        print('- Definition: {}'.format(node_data_dict[str(v_uri)]['description']))\n",
    "        print('- Descendants: {}\\n'.format(descs + 1))"
   ]
  },
  {
   "cell_type": "markdown",
   "metadata": {},
   "source": [
    "*Neighborhood*"
   ]
  },
  {
   "cell_type": "code",
   "execution_count": null,
   "metadata": {
    "code_folding": [
     2
    ]
   },
   "outputs": [],
   "source": [
    "# examine the node's neigborhood (out-edges)\n",
    "nodes = list(kg.neighbors(node[0]))\n",
    "neighbors = [a for b in [[[i, n] for j in [kg.get_edge_data(*(node[0], n)).keys()]\n",
    "                          for i in j] for n in nodes] for a in b]\n",
    "chebi6078_sorted_neigbors = sorted(neighbors, key=lambda x: (str(x[1]).split('/')[-1], x[0]))\n",
    "\n",
    "print('{} has {} neighbors'.format(str(node[0]).split('/')[-1], degree))"
   ]
  },
  {
   "cell_type": "code",
   "execution_count": null,
   "metadata": {
    "scrolled": true
   },
   "outputs": [],
   "source": [
    "# print node's neigborhood (out-edges)\n",
    "formats_node_information(node, chebi6078_sorted_neigbors, node_data_dict, verbose=False)"
   ]
  },
  {
   "cell_type": "markdown",
   "metadata": {},
   "source": [
    "***\n",
    "***\n",
    "\n",
    "#### myocardial infarction (`MONDO_0005068`) <a class=\"anchor\" id=\"mondo_0005068\"></a>"
   ]
  },
  {
   "cell_type": "code",
   "execution_count": null,
   "metadata": {},
   "outputs": [],
   "source": [
    "node = [obo.MONDO_0005068]\n",
    "degree = str(kg.degree(node[0]))\n",
    "in_edges = str(len(kg.in_edges(node[0])))\n",
    "out_edges = str(len(kg.out_edges(node[0])))\n",
    "print('This node has degree {}, which consists of {} in-edges and {} out-edges'.format(degree, in_edges, out_edges))"
   ]
  },
  {
   "cell_type": "markdown",
   "metadata": {},
   "source": [
    "*Ancestors*"
   ]
  },
  {
   "cell_type": "code",
   "execution_count": null,
   "metadata": {
    "code_folding": []
   },
   "outputs": [],
   "source": [
    "# examine the node's ancestors\n",
    "prefix = 'MONDO'\n",
    "mondo0005068_anc_dict = processes_ancestor_path_list(nx_ancestor_search(kg, node.copy(), prefix))\n",
    "mondo0005068_ancestors = format_path_ancestors(mondo0005068_anc_dict, node_data_dict)"
   ]
  },
  {
   "cell_type": "code",
   "execution_count": null,
   "metadata": {
    "code_folding": [
     0
    ]
   },
   "outputs": [],
   "source": [
    "# visualize hierarchy\n",
    "# visualize_ancestor_tree(mondo0005068_ancestors)  # using static viz\n",
    "g = visualize_kg_output(kg, mondo0005068_ancestors, node_data_dict)\n",
    "g.force_atlas_2based(gravity=-25, central_gravity=0.001, spring_length=90, spring_strength=0.08, damping=2, overlap=0)   \n",
    "g.toggle_physics(True)\n",
    "g.show('{}_Ancestor_Graph.html'.format(str(node[0]).split('/')[-1]))"
   ]
  },
  {
   "cell_type": "code",
   "execution_count": null,
   "metadata": {
    "code_folding": [
     0
    ]
   },
   "outputs": [],
   "source": [
    "# print results -- nodes are ordered by seniority (higher numbers indicate closer to root)\n",
    "print('Ancestors of {}'.format(node[0]))\n",
    "if node_data_dict[str(node[0])]['description'] != 'None': print('- Definition: {}\\n'.format(node_data_dict[str(node[0])]['description']))\n",
    "for level in range(len(mondo0005068_ancestors)):\n",
    "    print('Level: {}'.format(str(level)))\n",
    "    for v in mondo0005068_ancestors[::-1][level]:\n",
    "        v_uri = URIRef(v.split('(')[-1].strip(')'))\n",
    "        descs = len([a[1] for b in [[[i, n[0]] for j in [kg.get_edge_data(*(n[0], v_uri)).keys()]\n",
    "                                     for i in j] for n in list(kg.in_edges(v_uri))] for a in b\n",
    "                     if a[0] == RDFS.subClassOf])\n",
    "        uri_strip = re.sub('http://purl.obolibrary.org/obo/', '', v)\n",
    "        print('- {}'.format(uri_strip))\n",
    "        print('- Definition: {}'.format(node_data_dict[str(v_uri)]['description']))\n",
    "        print('- Descendants: {}\\n'.format(descs + 1))"
   ]
  },
  {
   "cell_type": "markdown",
   "metadata": {},
   "source": [
    "*Neighborhood*"
   ]
  },
  {
   "cell_type": "code",
   "execution_count": null,
   "metadata": {
    "code_folding": [
     2
    ]
   },
   "outputs": [],
   "source": [
    "# examine the node's neigborhood (out-edges)\n",
    "nodes = list(kg.neighbors(node[0]))\n",
    "neighbors = [a for b in [[[i, n] for j in [kg.get_edge_data(*(node[0], n)).keys()]\n",
    "                          for i in j] for n in nodes] for a in b]\n",
    "mondo0005068_sorted_neigbors = sorted(neighbors, key=lambda x: (str(x[1]).split('/')[-1], x[0]))\n",
    "\n",
    "print('{} has {} neighbors'.format(str(node[0]).split('/')[-1], degree))"
   ]
  },
  {
   "cell_type": "code",
   "execution_count": null,
   "metadata": {
    "code_folding": []
   },
   "outputs": [],
   "source": [
    "# print node's neigborhood (out-edges)\n",
    "formats_node_information(node, mondo0005068_sorted_neigbors, node_data_dict, verbose=False)"
   ]
  },
  {
   "cell_type": "markdown",
   "metadata": {},
   "source": [
    "\n",
    "***\n",
    "\n",
    "#### contact dermatitis (`MONDO_0005480`) <a class=\"anchor\" id=\"mondo_0005480\"></a>"
   ]
  },
  {
   "cell_type": "code",
   "execution_count": null,
   "metadata": {},
   "outputs": [],
   "source": [
    "node = [obo.MONDO_0005480]\n",
    "degree = str(kg.degree(node[0]))\n",
    "in_edges = str(len(kg.in_edges(node[0])))\n",
    "out_edges = str(len(kg.out_edges(node[0])))\n",
    "print('This node has degree {}, which consists of {} in-edges and {} out-edges'.format(degree, in_edges, out_edges))"
   ]
  },
  {
   "cell_type": "markdown",
   "metadata": {},
   "source": [
    "*Ancestors*"
   ]
  },
  {
   "cell_type": "code",
   "execution_count": null,
   "metadata": {
    "code_folding": []
   },
   "outputs": [],
   "source": [
    "# examine the node's ancestors\n",
    "prefix = 'MONDO'\n",
    "mondo0005480_anc_dict = processes_ancestor_path_list(nx_ancestor_search(kg, node.copy(), prefix))\n",
    "mondo0005480_ancestors = format_path_ancestors(mondo0005480_anc_dict, node_data_dict)"
   ]
  },
  {
   "cell_type": "code",
   "execution_count": null,
   "metadata": {
    "code_folding": [
     0
    ]
   },
   "outputs": [],
   "source": [
    "# visualize hierarchy\n",
    "# visualize_ancestor_tree(mondo0005480_ancestors)  # using static viz\n",
    "g = visualize_kg_output(kg, mondo0005480_ancestors, node_data_dict)\n",
    "g.force_atlas_2based(gravity=-25, central_gravity=0.001, spring_length=90, spring_strength=0.08, damping=2, overlap=0)   \n",
    "g.toggle_physics(True)\n",
    "g.show('{}_Ancestor_Graph.html'.format(str(node[0]).split('/')[-1]))"
   ]
  },
  {
   "cell_type": "code",
   "execution_count": null,
   "metadata": {
    "code_folding": [
     0
    ]
   },
   "outputs": [],
   "source": [
    "# print results -- nodes are ordered by seniority (higher numbers indicate closer to root)\n",
    "print('Ancestors of {}'.format(node[0]))\n",
    "if node_data_dict[str(node[0])]['description'] != 'None': print('- Definition: {}\\n'.format(node_data_dict[str(node[0])]['description']))\n",
    "for level in range(len(mondo0005480_ancestors)):\n",
    "    print('Level: {}'.format(str(level)))\n",
    "    for v in mondo0005480_ancestors[::-1][level]:\n",
    "        v_uri = URIRef(v.split('(')[-1].strip(')'))\n",
    "        descs = len([a[1] for b in [[[i, n[0]] for j in [kg.get_edge_data(*(n[0], v_uri)).keys()]\n",
    "                                     for i in j] for n in list(kg.in_edges(v_uri))] for a in b\n",
    "                     if a[0] == RDFS.subClassOf])\n",
    "        uri_strip = re.sub('http://purl.obolibrary.org/obo/', '', v)\n",
    "        print('- {}'.format(uri_strip))\n",
    "        print('- Definition: {}'.format(node_data_dict[str(v_uri)]['description']))\n",
    "        print('- Descendants: {}\\n'.format(descs + 1))"
   ]
  },
  {
   "cell_type": "markdown",
   "metadata": {},
   "source": [
    "*Neighborhood*"
   ]
  },
  {
   "cell_type": "code",
   "execution_count": null,
   "metadata": {
    "code_folding": [
     2
    ]
   },
   "outputs": [],
   "source": [
    "# examine the node's neigborhood (out-edges)\n",
    "nodes = list(kg.neighbors(node[0]))\n",
    "neighbors = [a for b in [[[i, n] for j in [kg.get_edge_data(*(node[0], n)).keys()]\n",
    "                          for i in j] for n in nodes] for a in b]\n",
    "mondo0005480_sorted_neigbors = sorted(neighbors, key=lambda x: (str(x[1]).split('/')[-1], x[0]))\n",
    "\n",
    "print('{} has {} neighbors'.format(str(node[0]).split('/')[-1], degree))"
   ]
  },
  {
   "cell_type": "code",
   "execution_count": null,
   "metadata": {
    "code_folding": []
   },
   "outputs": [],
   "source": [
    "# print node's neigborhood (out-edges)\n",
    "formats_node_information(node, mondo0005480_sorted_neigbors, node_data_dict, verbose=False)"
   ]
  },
  {
   "cell_type": "markdown",
   "metadata": {},
   "source": [
    "***\n",
    "\n",
    "#### Ingrowing Toenail (`HP_0012710`) <a class=\"anchor\" id=\"hp_0012710\"></a>"
   ]
  },
  {
   "cell_type": "code",
   "execution_count": null,
   "metadata": {},
   "outputs": [],
   "source": [
    "node = [obo.HP_0012710]\n",
    "degree = str(kg.degree(node[0]))\n",
    "in_edges = str(len(kg.in_edges(node[0])))\n",
    "out_edges = str(len(kg.out_edges(node[0])))\n",
    "print('This node has degree {}, which consists of {} in-edges and {} out-edges'.format(degree, in_edges, out_edges))"
   ]
  },
  {
   "cell_type": "markdown",
   "metadata": {},
   "source": [
    "*Ancestors*"
   ]
  },
  {
   "cell_type": "code",
   "execution_count": null,
   "metadata": {},
   "outputs": [],
   "source": [
    "# examine the node's ancestors\n",
    "prefix = 'HP'\n",
    "hp0012710_anc_dict = processes_ancestor_path_list(nx_ancestor_search(kg, node.copy(), prefix))\n",
    "hp0012710_ancestors = format_path_ancestors(hp0012710_anc_dict, node_data_dict)"
   ]
  },
  {
   "cell_type": "code",
   "execution_count": null,
   "metadata": {
    "code_folding": [
     0
    ]
   },
   "outputs": [],
   "source": [
    "# visualize hierarchy\n",
    "# visualize_ancestor_tree(hp0012710_ancestors)  # using static viz\n",
    "g = visualize_kg_output(kg, hp0012710_ancestors, node_data_dict)\n",
    "g.force_atlas_2based(gravity=-25, central_gravity=0.001, spring_length=90, spring_strength=0.08, damping=2, overlap=0)   \n",
    "g.toggle_physics(True)\n",
    "g.show('{}_Ancestor_Graph.html'.format(str(node[0]).split('/')[-1]))\n"
   ]
  },
  {
   "cell_type": "code",
   "execution_count": null,
   "metadata": {
    "code_folding": [
     0
    ]
   },
   "outputs": [],
   "source": [
    "# print results -- nodes are ordered by seniority (higher numbers indicate closer to root)\n",
    "print('Ancestors of {}'.format(node[0]))\n",
    "if node_data_dict[str(node[0])]['description'] != 'None': print('- Definition: {}\\n'.format(node_data_dict[str(node[0])]['description']))\n",
    "for level in range(len(hp0012710_ancestors)):\n",
    "    print('Level: {}'.format(str(level)))\n",
    "    for v in hp0012710_ancestors[::-1][level]:\n",
    "        v_uri = URIRef(v.split('(')[-1].strip(')'))\n",
    "        descs = len([a[1] for b in [[[i, n[0]] for j in [kg.get_edge_data(*(n[0], v_uri)).keys()]\n",
    "                                     for i in j] for n in list(kg.in_edges(v_uri))] for a in b\n",
    "                     if a[0] == RDFS.subClassOf])\n",
    "        uri_strip = re.sub('http://purl.obolibrary.org/obo/', '', v)\n",
    "        print('- {}'.format(uri_strip))\n",
    "        print('- Definition: {}'.format(node_data_dict[str(v_uri)]['description']))\n",
    "        print('- Descendants: {}\\n'.format(descs + 1))"
   ]
  },
  {
   "cell_type": "markdown",
   "metadata": {},
   "source": [
    "*Neighborhood*"
   ]
  },
  {
   "cell_type": "code",
   "execution_count": null,
   "metadata": {
    "code_folding": [
     2
    ]
   },
   "outputs": [],
   "source": [
    "# examine the node's neigborhood (out-edges)\n",
    "nodes = list(kg.neighbors(node[0]))\n",
    "neighbors = [a for b in [[[i, n] for j in [kg.get_edge_data(*(node[0], n)).keys()]\n",
    "                          for i in j] for n in nodes] for a in b]\n",
    "hp0012710_sorted_neigbors = sorted(neighbors, key=lambda x: (str(x[1]).split('/')[-1], x[0]))\n",
    "\n",
    "print('{} has {} neighbors'.format(str(node[0]).split('/')[-1], degree))"
   ]
  },
  {
   "cell_type": "code",
   "execution_count": null,
   "metadata": {},
   "outputs": [],
   "source": [
    "# print node's neigborhood (out-edges)\n",
    "formats_node_information(node, hp0012710_sorted_neigbors, node_data_dict, verbose=False)"
   ]
  },
  {
   "cell_type": "markdown",
   "metadata": {},
   "source": [
    "***\n",
    "\n",
    "#### Presbyopia (`MONDO_0001330`) <a class=\"anchor\" id=\"mondo_0001330\"></a>"
   ]
  },
  {
   "cell_type": "code",
   "execution_count": null,
   "metadata": {},
   "outputs": [],
   "source": [
    "node = [obo.MONDO_0001330]\n",
    "degree = str(kg.degree(node[0]))\n",
    "in_edges = str(len(kg.in_edges(node[0])))\n",
    "out_edges = str(len(kg.out_edges(node[0])))\n",
    "print('This node has degree {}, which consists of {} in-edges and {} out-edges'.format(degree, in_edges, out_edges))"
   ]
  },
  {
   "cell_type": "markdown",
   "metadata": {},
   "source": [
    "*Ancestors*"
   ]
  },
  {
   "cell_type": "code",
   "execution_count": null,
   "metadata": {},
   "outputs": [],
   "source": [
    "# examine the node's ancestors\n",
    "prefix = 'MONDO'\n",
    "mondo0001330_anc_dict = processes_ancestor_path_list(nx_ancestor_search(kg, node.copy(), prefix))\n",
    "mondo0001330_ancestors = format_path_ancestors(mondo0001330_anc_dict, node_data_dict)"
   ]
  },
  {
   "cell_type": "code",
   "execution_count": null,
   "metadata": {
    "code_folding": [
     0
    ]
   },
   "outputs": [],
   "source": [
    "# visualize hierarchy\n",
    "# visualize_ancestor_tree(mondo0001330)  # using static viz\n",
    "g = visualize_kg_output(kg, mondo0001330_ancestors, node_data_dict)\n",
    "g.force_atlas_2based(gravity=-25, central_gravity=0.001, spring_length=90, spring_strength=0.08, damping=2, overlap=0)   \n",
    "g.toggle_physics(True)\n",
    "g.show('{}_Ancestor_Graph.html'.format(str(node[0]).split('/')[-1]))\n"
   ]
  },
  {
   "cell_type": "code",
   "execution_count": null,
   "metadata": {
    "code_folding": [
     0
    ]
   },
   "outputs": [],
   "source": [
    "# print results -- nodes are ordered by seniority (higher numbers indicate closer to root)\n",
    "print('Ancestors of {}'.format(node[0]))\n",
    "if node_data_dict[str(node[0])]['description'] != 'None': print('- Definition: {}\\n'.format(node_data_dict[str(node[0])]['description']))\n",
    "for level in range(len(mondo0001330_ancestors)):\n",
    "    print('Level: {}'.format(str(level)))\n",
    "    for v in mondo0001330_ancestors[::-1][level]:\n",
    "        v_uri = URIRef(v.split('(')[-1].strip(')'))\n",
    "        descs = len([a[1] for b in [[[i, n[0]] for j in [kg.get_edge_data(*(n[0], v_uri)).keys()]\n",
    "                                     for i in j] for n in list(kg.in_edges(v_uri))] for a in b\n",
    "                     if a[0] == RDFS.subClassOf])\n",
    "        uri_strip = re.sub('http://purl.obolibrary.org/obo/', '', v)\n",
    "        print('- {}'.format(uri_strip))\n",
    "        print('- Definition: {}'.format(node_data_dict[str(v_uri)]['description']))\n",
    "        print('- Descendants: {}\\n'.format(descs + 1))"
   ]
  },
  {
   "cell_type": "markdown",
   "metadata": {},
   "source": [
    "*Neighborhood*"
   ]
  },
  {
   "cell_type": "code",
   "execution_count": null,
   "metadata": {
    "code_folding": [
     2
    ]
   },
   "outputs": [],
   "source": [
    "# examine the node's neigborhood (out-edges)\n",
    "nodes = list(kg.neighbors(node[0]))\n",
    "neighbors = [a for b in [[[i, n] for j in [kg.get_edge_data(*(node[0], n)).keys()]\n",
    "                          for i in j] for n in nodes] for a in b]\n",
    "mondo0001330_sorted_neigbors = sorted(neighbors, key=lambda x: (str(x[1]).split('/')[-1], x[0]))\n",
    "\n",
    "print('{} has {} neighbors'.format(str(node[0]).split('/')[-1], degree))"
   ]
  },
  {
   "cell_type": "code",
   "execution_count": null,
   "metadata": {},
   "outputs": [],
   "source": [
    "# print node's neigborhood (out-edges)\n",
    "formats_node_information(node, mondo0001330_sorted_neigbors, node_data_dict, verbose=False)"
   ]
  },
  {
   "cell_type": "markdown",
   "metadata": {},
   "source": [
    "***\n",
    "\n",
    "#### Neurotoxicity (`MONDO_0005527`) <a class=\"anchor\" id=\"mondo_0005527\"></a>"
   ]
  },
  {
   "cell_type": "code",
   "execution_count": null,
   "metadata": {},
   "outputs": [],
   "source": [
    "node = [obo.MONDO_0005527]\n",
    "degree = str(kg.degree(node[0]))\n",
    "in_edges = str(len(kg.in_edges(node[0])))\n",
    "out_edges = str(len(kg.out_edges(node[0])))\n",
    "print('This node has degree {}, which consists of {} in-edges and {} out-edges'.format(degree, in_edges, out_edges))"
   ]
  },
  {
   "cell_type": "markdown",
   "metadata": {},
   "source": [
    "*Ancestors*"
   ]
  },
  {
   "cell_type": "code",
   "execution_count": null,
   "metadata": {},
   "outputs": [],
   "source": [
    "# examine the node's ancestors\n",
    "prefix = 'MONDO'\n",
    "mondo0005527_anc_dict = processes_ancestor_path_list(nx_ancestor_search(kg, node.copy(), prefix))\n",
    "mondo0005527_ancestors = format_path_ancestors(mondo0005527_anc_dict, node_data_dict)"
   ]
  },
  {
   "cell_type": "code",
   "execution_count": null,
   "metadata": {
    "code_folding": [
     0
    ]
   },
   "outputs": [],
   "source": [
    "# visualize hierarchy\n",
    "# visualize_ancestor_tree(mondo0005527_ancestors)  # using static viz\n",
    "g = visualize_kg_output(kg, mondo0005527_ancestors, node_data_dict)\n",
    "g.force_atlas_2based(gravity=-25, central_gravity=0.001, spring_length=90, spring_strength=0.08, damping=2, overlap=0)   \n",
    "g.toggle_physics(True)\n",
    "g.show('{}_Ancestor_Graph.html'.format(str(node[0]).split('/')[-1]))\n"
   ]
  },
  {
   "cell_type": "code",
   "execution_count": null,
   "metadata": {
    "code_folding": [
     0
    ]
   },
   "outputs": [],
   "source": [
    "# print results -- nodes are ordered by seniority (higher numbers indicate closer to root)\n",
    "print('Ancestors of {}'.format(node[0]))\n",
    "if node_data_dict[str(node[0])]['description'] != 'None': print('- Definition: {}\\n'.format(node_data_dict[str(node[0])]['description']))\n",
    "for level in range(len(mondo0005527_ancestors)):\n",
    "    print('Level: {}'.format(str(level)))\n",
    "    for v in mondo0005527_ancestors[::-1][level]:\n",
    "        v_uri = URIRef(v.split('(')[-1].strip(')'))\n",
    "        descs = len([a[1] for b in [[[i, n[0]] for j in [kg.get_edge_data(*(n[0], v_uri)).keys()]\n",
    "                                     for i in j] for n in list(kg.in_edges(v_uri))] for a in b\n",
    "                     if a[0] == RDFS.subClassOf])\n",
    "        uri_strip = re.sub('http://purl.obolibrary.org/obo/', '', v)\n",
    "        print('- {}'.format(uri_strip))\n",
    "        print('- Definition: {}'.format(node_data_dict[str(v_uri)]['description']))\n",
    "        print('- Descendants: {}\\n'.format(descs + 1))"
   ]
  },
  {
   "cell_type": "markdown",
   "metadata": {},
   "source": [
    "*Neighborhood*"
   ]
  },
  {
   "cell_type": "code",
   "execution_count": null,
   "metadata": {
    "code_folding": [
     2
    ]
   },
   "outputs": [],
   "source": [
    "# examine the node's neigborhood (out-edges)\n",
    "nodes = list(kg.neighbors(node[0]))\n",
    "neighbors = [a for b in [[[i, n] for j in [kg.get_edge_data(*(node[0], n)).keys()]\n",
    "                          for i in j] for n in nodes] for a in b]\n",
    "mondo0005527_sorted_neigbors = sorted(neighbors, key=lambda x: (str(x[1]).split('/')[-1], x[0]))\n",
    "\n",
    "print('{} has {} neighbors'.format(str(node[0]).split('/')[-1], degree))"
   ]
  },
  {
   "cell_type": "code",
   "execution_count": null,
   "metadata": {},
   "outputs": [],
   "source": [
    "# print node's neigborhood (out-edges)\n",
    "formats_node_information(node, mondo0005527_sorted_neigbors, node_data_dict, verbose=False)"
   ]
  },
  {
   "cell_type": "markdown",
   "metadata": {},
   "source": [
    "<br>\n",
    "\n",
    "### Path-Level Characterization  <a class=\"anchor\" id=\"path-level\"></a>\n",
    "\n",
    "***\n",
    "\n",
    "- **Positive Relationship:**  \n",
    "  - [`lisinopril` ([CHEBI_6503](http://purl.obolibrary.org/obo/CHEBI_6503)) and `myocardial infarction` ([MONDO_0005068](http://purl.obolibrary.org/obo/MONDO_0005068))](#path1)  \n",
    "   \n",
    "- **Negative Relationships:**  \n",
    "  - [`lisinopril` ([CHEBI_6503](http://purl.obolibrary.org/obo/CHEBI_6503)) and `contact dermatitis` ([MONDO_0005480](http://purl.obolibrary.org/obo/MONDO_0005480))](#path2)       \n",
    "  - [`lisinopril` ([CHEBI_6503](http://purl.obolibrary.org/obo/CHEBI_6503)) and `ingrowing toenails` ([HP_0012710](http://purl.obolibrary.org/obo/MONDO_0005480))](#path3)       \n",
    "  - [`lisinopril` ([CHEBI_6503](http://purl.obolibrary.org/obo/CHEBI_6503)) and `presbyopia` ([MONDO_0001330](http://purl.obolibrary.org/obo/MONDO_0001330))](#path4)       \n",
    "\n",
    "- **Unknown Relationships:**  \n",
    "  - [`ivermectin` ([CHEBI_6078](http://purl.obolibrary.org/obo/CHEBI_6078)) and `neurotoxicity` ([MONDO_0005527](http://purl.obolibrary.org/obo/MONDO_0005527))](#path5)   \n"
   ]
  },
  {
   "cell_type": "markdown",
   "metadata": {},
   "source": [
    "***\n",
    "\n",
    "### Positive Relationships\n",
    "\n",
    "When examining `lisinopril` and `myocardial infarction`. We observed that this pair had an efficiency of `1.0` and a single shortest path of length `1`."
   ]
  },
  {
   "cell_type": "markdown",
   "metadata": {},
   "source": [
    "***\n",
    "\n",
    "#### lisinopril (`CHEBI_6503`) and myocardial infarction (`MONDO_0005068`) <a class=\"anchor\" id=\"path1\"></a> "
   ]
  },
  {
   "cell_type": "code",
   "execution_count": null,
   "metadata": {
    "code_folding": [
     1,
     8
    ]
   },
   "outputs": [],
   "source": [
    "s = obo.CHEBI_6503; t = obo.MONDO_0005068\n",
    "try:\n",
    "    kg_orientation = kg; ind = 'directed'\n",
    "    spl_d = nx.shortest_path_length(kg, source=s, target=t)  \n",
    "    print('The shortest path length is: {} ({})'.format(str(spl_d), ind))\n",
    "    # get efficiency (measure of how efficiently information is exchanged between nodes)\n",
    "    eff = nx.efficiency(undirected_kg, s, t)\n",
    "    print('The efficiency between the nodes is: {}'.format(str(eff)))\n",
    "except nx.NetworkXNoPath:\n",
    "    print('There is no path between {} and {}'.format(str(s), str(t)))\n",
    "    kg_orientation = undirected_kg; ind = 'undirected'\n",
    "    spl_d = nx.shortest_path_length(undirected_kg, source=s, target=t)\n",
    "    print('The shortest path length is: {} ({})'.format(str(spl_d), ind))"
   ]
  },
  {
   "cell_type": "code",
   "execution_count": null,
   "metadata": {},
   "outputs": [],
   "source": [
    "shortest_paths1 = list(nx.all_shortest_paths(kg_orientation, s, t))\n",
    "p_len = nx.shortest_path_length(kg_orientation, source=s, target=t)\n",
    "v = 'is' if len(shortest_paths1) == 1 else 'are'\n",
    "print('There {} {} shortest paths of length {}'.format(v, str(len(shortest_paths1)), str(p_len)))"
   ]
  },
  {
   "cell_type": "code",
   "execution_count": null,
   "metadata": {
    "code_folding": [
     0
    ]
   },
   "outputs": [],
   "source": [
    "formats_path_information(kg=kg_orientation,\n",
    "                         paths=shortest_paths1,\n",
    "                         path_type='shortest',\n",
    "                         metadata_func=metadata_formatter,\n",
    "                         metadata_dict=None,\n",
    "                         node_metadata=node_data_dict,\n",
    "                         verbose=False,\n",
    "                         rand=True,\n",
    "                         sample_size=10)"
   ]
  },
  {
   "cell_type": "markdown",
   "metadata": {},
   "source": [
    "*Simple Paths*"
   ]
  },
  {
   "cell_type": "code",
   "execution_count": null,
   "metadata": {
    "code_folding": [
     0
    ]
   },
   "outputs": [],
   "source": [
    "# simple paths (i.e., no repeated nodes)\n",
    "simple_paths1 = []; counter = 0\n",
    "for path in tqdm(nx.all_simple_paths(kg_orientation, source=s, target=t, cutoff=5)):\n",
    "    simple_paths1 += [path]\n",
    "    if counter == 25: break\n",
    "    else: counter += 1"
   ]
  },
  {
   "cell_type": "code",
   "execution_count": null,
   "metadata": {
    "code_folding": [
     0
    ],
    "scrolled": false
   },
   "outputs": [],
   "source": [
    "# print random sample of n simple paths\n",
    "formats_path_information(kg=kg_orientation,\n",
    "                         paths=simple_paths1,\n",
    "                         path_type='simple',\n",
    "                         metadata_func=metadata_formatter,\n",
    "                         metadata_dict=None,\n",
    "                         node_metadata=node_data_dict,\n",
    "                         verbose=False,\n",
    "                         rand=True,\n",
    "                         sample_size=10)"
   ]
  },
  {
   "cell_type": "markdown",
   "metadata": {},
   "source": [
    "<br>\n",
    "\n",
    "***\n",
    "\n",
    "### Negative Relationships  \n",
    "\n",
    "When examining the following negative relationships:  \n",
    "1. `lisinopril` and `contact dermatitis`. This pair had an efficiency of `0.33` and `14` shortest paths of length 4.  \n",
    "2. `lisinopril` and `ingrowing toenails`. This pair had an efficiency of `0.33` and no shortest paths.\n",
    "3.  `lisinopril` and `presbyopia`. This pair had an efficiency of `0.25` and no shortest paths.\n"
   ]
  },
  {
   "cell_type": "markdown",
   "metadata": {},
   "source": [
    "***\n",
    "#### lisinopril (`CHEBI_6503`) and contact dermatitis (`MONDO_0005480`)  <a class=\"anchor\" id=\"path2\"></a>\n"
   ]
  },
  {
   "cell_type": "code",
   "execution_count": null,
   "metadata": {
    "code_folding": [
     1,
     8
    ]
   },
   "outputs": [],
   "source": [
    "s = obo.CHEBI_6503; t = obo.MONDO_0005480\n",
    "try:\n",
    "    kg_orientation = kg; ind = 'directed'\n",
    "    spl_d = nx.shortest_path_length(kg, source=s, target=t)  \n",
    "    print('The shortest path length is: {} ({})'.format(str(spl_d), ind))\n",
    "    # get efficiency (measure of how efficiently information is exchanged between nodes)\n",
    "    eff = nx.efficiency(undirected_kg, s, t)\n",
    "    print('The efficiency between the nodes is: {}'.format(str(eff)))\n",
    "except nx.NetworkXNoPath:\n",
    "    print('There is no path between {} and {}'.format(str(s), str(t)))\n",
    "    kg_orientation = undirected_kg; ind = 'undirected'\n",
    "    spl_d = nx.shortest_path_length(undirected_kg, source=s, target=t)\n",
    "    print('The shortest path length is: {} ({})'.format(str(spl_d), ind))"
   ]
  },
  {
   "cell_type": "code",
   "execution_count": null,
   "metadata": {},
   "outputs": [],
   "source": [
    "shortest_paths2 = list(nx.all_shortest_paths(kg_orientation, s, t))\n",
    "p_len = nx.shortest_path_length(kg_orientation, source=s, target=t)\n",
    "v = 'is' if len(shortest_paths2) == 1 else 'are'\n",
    "print('There {} {} shortest paths of length {}'.format(v, str(len(shortest_paths2)), str(p_len)))"
   ]
  },
  {
   "cell_type": "code",
   "execution_count": null,
   "metadata": {
    "code_folding": [
     0
    ],
    "scrolled": true
   },
   "outputs": [],
   "source": [
    "formats_path_information(kg=kg_orientation,\n",
    "                         paths=shortest_paths2,\n",
    "                         path_type='shortest',\n",
    "                         metadata_func=metadata_formatter,\n",
    "                         metadata_dict=None,\n",
    "                         node_metadata=node_data_dict,\n",
    "                         verbose=False,\n",
    "                         rand=True,\n",
    "                         sample_size=10)"
   ]
  },
  {
   "cell_type": "markdown",
   "metadata": {},
   "source": [
    "*Simple Paths*"
   ]
  },
  {
   "cell_type": "code",
   "execution_count": null,
   "metadata": {
    "code_folding": [
     0,
     2
    ]
   },
   "outputs": [],
   "source": [
    "# simple paths (i.e., no repeated nodes)\n",
    "simple_paths2 = []; counter = 0\n",
    "for path in tqdm(nx.all_simple_paths(kg_orientation, source=s, target=t, cutoff=5)):\n",
    "    simple_paths2 += [path]\n",
    "    if counter == 25: break\n",
    "    else: counter += 1"
   ]
  },
  {
   "cell_type": "code",
   "execution_count": null,
   "metadata": {
    "code_folding": [
     1
    ],
    "scrolled": true
   },
   "outputs": [],
   "source": [
    "# simple paths (i.e., no repeated nodes)\n",
    "formats_path_information(kg=kg_orientation,\n",
    "                         paths=simple_paths2,\n",
    "                         path_type='simple',\n",
    "                         metadata_func=metadata_formatter,\n",
    "                         metadata_dict=None,\n",
    "                         node_metadata=node_data_dict,\n",
    "                         verbose=False,\n",
    "                         rand=True,\n",
    "                         sample_size=10)"
   ]
  },
  {
   "cell_type": "markdown",
   "metadata": {},
   "source": [
    "***\n",
    "#### lisinopril (`CHEBI_6503`) and ingrowing toenails (`HP_0012710`)  <a class=\"anchor\" id=\"path3\"></a>\n"
   ]
  },
  {
   "cell_type": "code",
   "execution_count": null,
   "metadata": {
    "code_folding": [
     1,
     8
    ]
   },
   "outputs": [],
   "source": [
    "s = obo.CHEBI_6503; t = obo.HP_0012710\n",
    "try:\n",
    "    kg_orientation = kg; ind = 'directed'\n",
    "    spl_d = nx.shortest_path_length(kg, source=s, target=t)  \n",
    "    print('The shortest path length is: {} ({})'.format(str(spl_d), ind))\n",
    "    # get efficiency (measure of how efficiently information is exchanged between nodes)\n",
    "    eff = nx.efficiency(undirected_kg, s, t)\n",
    "    print('The efficiency between the nodes is: {}'.format(str(eff)))\n",
    "except nx.NetworkXNoPath:\n",
    "    print('There is no path between {} and {}'.format(str(s), str(t)))\n",
    "    kg_orientation = undirected_kg; ind = 'undirected'\n",
    "    spl_d = nx.shortest_path_length(undirected_kg, source=s, target=t)\n",
    "    print('The shortest path length is: {} ({})'.format(str(spl_d), ind))"
   ]
  },
  {
   "cell_type": "code",
   "execution_count": null,
   "metadata": {},
   "outputs": [],
   "source": [
    "shortest_paths4 = list(nx.all_shortest_paths(kg_orientation, s, t))\n",
    "p_len = nx.shortest_path_length(kg_orientation, source=s, target=t)\n",
    "v = 'is' if len(shortest_paths4) == 1 else 'are'\n",
    "print('There {} {} shortest paths of length {}'.format(v, str(len(shortest_paths4)), str(p_len)))"
   ]
  },
  {
   "cell_type": "code",
   "execution_count": null,
   "metadata": {
    "code_folding": [
     0
    ],
    "scrolled": false
   },
   "outputs": [],
   "source": [
    "formats_path_information(kg=kg_orientation,\n",
    "                         paths=shortest_paths4,\n",
    "                         path_type='shortest',\n",
    "                         metadata_func=metadata_formatter,\n",
    "                         metadata_dict=None,\n",
    "                         node_metadata=node_data_dict,\n",
    "                         verbose=False,\n",
    "                         rand=True,\n",
    "                         sample_size=10)"
   ]
  },
  {
   "cell_type": "markdown",
   "metadata": {},
   "source": [
    "*Simple Paths*"
   ]
  },
  {
   "cell_type": "code",
   "execution_count": null,
   "metadata": {
    "code_folding": [
     0,
     2
    ]
   },
   "outputs": [],
   "source": [
    "# simple paths (i.e., no repeated nodes)\n",
    "simple_paths3 = []; counter = 0\n",
    "for path in tqdm(nx.all_simple_paths(kg_orientation, source=s, target=t, cutoff=5)):\n",
    "    simple_paths3 += [path]\n",
    "    if counter == 10: break\n",
    "    else: counter += 1"
   ]
  },
  {
   "cell_type": "code",
   "execution_count": null,
   "metadata": {
    "code_folding": [
     0,
     1
    ],
    "scrolled": true
   },
   "outputs": [],
   "source": [
    "# simple paths (i.e., no repeated nodes)\n",
    "formats_path_information(kg=kg_orientation,\n",
    "                         paths=simple_paths3,\n",
    "                         path_type='simple',\n",
    "                         metadata_func=metadata_formatter,\n",
    "                         metadata_dict=None,\n",
    "                         node_metadata=node_data_dict,\n",
    "                         verbose=False,\n",
    "                         rand=True,\n",
    "                         sample_size=10)"
   ]
  },
  {
   "cell_type": "markdown",
   "metadata": {},
   "source": [
    "***\n",
    "#### lisinopril (`CHEBI_6503`) and  presbyopia (`MONDO_0001330`)  <a class=\"anchor\" id=\"path4\"></a>\n"
   ]
  },
  {
   "cell_type": "code",
   "execution_count": null,
   "metadata": {
    "code_folding": [
     1,
     8
    ]
   },
   "outputs": [],
   "source": [
    "s = obo.CHEBI_6503; t = obo.MONDO_0001330\n",
    "try:\n",
    "    kg_orientation = kg; ind = 'directed'\n",
    "    spl_d = nx.shortest_path_length(kg, source=s, target=t)  \n",
    "    print('The shortest path length is: {} ({})'.format(str(spl_d), ind))\n",
    "    # get efficiency (measure of how efficiently information is exchanged between nodes)\n",
    "    eff = nx.efficiency(undirected_kg, s, t)\n",
    "    print('The efficiency between the nodes is: {}'.format(str(eff)))\n",
    "except nx.NetworkXNoPath:\n",
    "    print('There is no path between {} and {}'.format(str(s), str(t)))\n",
    "    kg_orientation = undirected_kg; ind = 'undirected'\n",
    "    spl_d = nx.shortest_path_length(undirected_kg, source=s, target=t)\n",
    "    print('The shortest path length is: {} ({})'.format(str(spl_d), ind))"
   ]
  },
  {
   "cell_type": "code",
   "execution_count": null,
   "metadata": {},
   "outputs": [],
   "source": [
    "shortest_paths4 = list(nx.all_shortest_paths(kg_orientation, s, t))\n",
    "p_len = nx.shortest_path_length(kg_orientation, source=s, target=t)\n",
    "v = 'is' if len(shortest_paths4) == 1 else 'are'\n",
    "print('There {} {} shortest paths of length {}'.format(v, str(len(shortest_paths4)), str(p_len)))"
   ]
  },
  {
   "cell_type": "code",
   "execution_count": null,
   "metadata": {
    "code_folding": [
     0
    ],
    "scrolled": true
   },
   "outputs": [],
   "source": [
    "formats_path_information(kg=kg_orientation,\n",
    "                         paths=shortest_paths4,\n",
    "                         path_type='shortest',\n",
    "                         metadata_func=metadata_formatter,\n",
    "                         metadata_dict=None,\n",
    "                         node_metadata=node_data_dict,\n",
    "                         verbose=False,\n",
    "                         rand=True,\n",
    "                         sample_size=10)"
   ]
  },
  {
   "cell_type": "markdown",
   "metadata": {},
   "source": [
    "*Simple Paths*"
   ]
  },
  {
   "cell_type": "code",
   "execution_count": null,
   "metadata": {
    "code_folding": [
     0
    ]
   },
   "outputs": [],
   "source": [
    "# simple paths (i.e., no repeated nodes)\n",
    "simple_paths4 = []; counter = 0\n",
    "for path in tqdm(nx.all_simple_paths(kg_orientation, source=s, target=t, cutoff=5)):\n",
    "    simple_paths4 += [path]\n",
    "    if counter == 25: break\n",
    "    else: counter += 1"
   ]
  },
  {
   "cell_type": "code",
   "execution_count": null,
   "metadata": {
    "code_folding": [
     0
    ],
    "scrolled": false
   },
   "outputs": [],
   "source": [
    "# simple paths (i.e., no repeated nodes)\n",
    "formats_path_information(kg=kg_orientation,\n",
    "                         paths=simple_paths4,\n",
    "                         path_type='simple',\n",
    "                         metadata_func=metadata_formatter,\n",
    "                         metadata_dict=None,\n",
    "                         node_metadata=node_data_dict,\n",
    "                         verbose=False,\n",
    "                         rand=True,\n",
    "                         sample_size=10)"
   ]
  },
  {
   "cell_type": "markdown",
   "metadata": {},
   "source": [
    "<br>\n",
    "\n",
    "***\n",
    "\n",
    "### Unknown Relationships"
   ]
  },
  {
   "cell_type": "markdown",
   "metadata": {},
   "source": [
    "***\n",
    "#### ivermectin (`CHEBI_6078`) and neurotoxicity (`MONDO_0005527`)  <a class=\"anchor\" id=\"path5\"></a>\n",
    "\n",
    "When examining `ivermectin` and `neurotoxicity`. We observed that this pair had an efficiency of `1.0` and a single shortest path of length `1`."
   ]
  },
  {
   "cell_type": "code",
   "execution_count": null,
   "metadata": {
    "code_folding": [
     1,
     8
    ]
   },
   "outputs": [],
   "source": [
    "s = obo.CHEBI_6078; t = obo.MONDO_0005527\n",
    "try:\n",
    "    kg_orientation = kg; ind = 'directed'\n",
    "    spl_d = nx.shortest_path_length(kg, source=s, target=t)  \n",
    "    print('The shortest path length is: {} ({})'.format(str(spl_d), ind))\n",
    "    # get efficiency (measure of how efficiently information is exchanged between nodes)\n",
    "    eff = nx.efficiency(undirected_kg, s, t)\n",
    "    print('The efficiency between the nodes is: {}'.format(str(eff)))\n",
    "except nx.NetworkXNoPath:\n",
    "    print('There is no path between {} and {}'.format(str(s), str(t)))\n",
    "    kg_orientation = undirected_kg; ind = 'undirected'\n",
    "    spl_d = nx.shortest_path_length(undirected_kg, source=s, target=t)\n",
    "    print('The shortest path length is: {} ({})'.format(str(spl_d), ind))"
   ]
  },
  {
   "cell_type": "code",
   "execution_count": null,
   "metadata": {},
   "outputs": [],
   "source": [
    "shortest_paths5 = list(nx.all_shortest_paths(kg_orientation, s, t))\n",
    "p_len = nx.shortest_path_length(kg_orientation, source=s, target=t)\n",
    "v = 'is' if len(shortest_paths5) == 1 else 'are'\n",
    "print('There {} {} shortest paths of length {}'.format(v, str(len(shortest_paths5)), str(p_len)))"
   ]
  },
  {
   "cell_type": "code",
   "execution_count": null,
   "metadata": {
    "code_folding": [
     0
    ]
   },
   "outputs": [],
   "source": [
    "formats_path_information(kg=kg_orientation,\n",
    "                         paths=shortest_paths5,\n",
    "                         path_type='shortest',\n",
    "                         metadata_func=metadata_formatter,\n",
    "                         metadata_dict=None,\n",
    "                         node_metadata=node_data_dict,\n",
    "                         verbose=False,\n",
    "                         rand=True,\n",
    "                         sample_size=10)"
   ]
  },
  {
   "cell_type": "markdown",
   "metadata": {},
   "source": [
    "*Simple Paths*"
   ]
  },
  {
   "cell_type": "code",
   "execution_count": null,
   "metadata": {
    "code_folding": [
     2
    ]
   },
   "outputs": [],
   "source": [
    "# simple paths (i.e., no repeated nodes)\n",
    "simple_paths5 = []; counter = 0\n",
    "for path in tqdm(nx.all_simple_paths(undirected_kg, source=s, target=t, cutoff=5)):\n",
    "    simple_paths5 += [path]\n",
    "    if counter == 25: break\n",
    "    else: counter += 1"
   ]
  },
  {
   "cell_type": "code",
   "execution_count": null,
   "metadata": {
    "code_folding": [
     1
    ],
    "scrolled": false
   },
   "outputs": [],
   "source": [
    "# simple paths (i.e., no repeated nodes) -- forcing the kg to be undirected in order to get output\n",
    "formats_path_information(kg=undirected_kg,\n",
    "                         paths=simple_paths5,\n",
    "                         path_type='simple',\n",
    "                         metadata_func=metadata_formatter,\n",
    "                         metadata_dict=None,\n",
    "                         node_metadata=node_data_dict,\n",
    "                         verbose=False,\n",
    "                         rand=True,\n",
    "                         sample_size=10)"
   ]
  },
  {
   "cell_type": "markdown",
   "metadata": {},
   "source": [
    "\n",
    "<br>\n",
    "\n",
    "***\n",
    "***\n",
    "\n",
    "This Notebook is part of the [**PheKnowLator Ecosystem**](https://zenodo.org/communities/pheknowlator-ecosystem/edit/)\n",
    "\n",
    "```\n",
    "@misc{callahan_tj_2019_3401437,\n",
    "  author       = {Callahan, TJ},\n",
    "  title        = {PheKnowLator},\n",
    "  month        = mar,\n",
    "  year         = 2019,\n",
    "  doi          = {10.5281/zenodo.3401437},\n",
    "  url          = {https://doi.org/10.5281/zenodo.3401437}\n",
    "}\n",
    "```\n",
    "\n",
    "***"
   ]
  }
 ],
 "metadata": {
  "kernelspec": {
   "display_name": "venv",
   "language": "python",
   "name": "venv"
  },
  "language_info": {
   "codemirror_mode": {
    "name": "ipython",
    "version": 3
   },
   "file_extension": ".py",
   "mimetype": "text/x-python",
   "name": "python",
   "nbconvert_exporter": "python",
   "pygments_lexer": "ipython3",
   "version": "3.6.8"
  }
 },
 "nbformat": 4,
 "nbformat_minor": 1
}
